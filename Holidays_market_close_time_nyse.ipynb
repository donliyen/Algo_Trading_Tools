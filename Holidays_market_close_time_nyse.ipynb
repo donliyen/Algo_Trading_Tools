{
 "cells": [
  {
   "cell_type": "code",
   "execution_count": 116,
   "metadata": {},
   "outputs": [],
   "source": [
    "import pandas as pd\n",
    "from datetime import datetime , timedelta"
   ]
  },
  {
   "cell_type": "code",
   "execution_count": 121,
   "metadata": {},
   "outputs": [
    {
     "data": {
      "text/plain": [
       "0   2023-01-02 18:00:00\n",
       "1   2023-01-16 18:00:00\n",
       "2   2023-02-20 18:00:00\n",
       "3   2023-04-07 18:00:00\n",
       "4   2023-05-29 18:00:00\n",
       "5   2023-06-19 18:00:00\n",
       "6   2023-07-04 18:00:00\n",
       "7   2023-09-04 18:00:00\n",
       "8   2023-11-23 18:00:00\n",
       "9   2023-12-25 18:00:00\n",
       "Name: 2023, dtype: datetime64[ns]"
      ]
     },
     "execution_count": 121,
     "metadata": {},
     "output_type": "execute_result"
    }
   ],
   "source": [
    "#Get this year holidays \n",
    "import pandas as pd\n",
    "\n",
    "# URL of the webpage\n",
    "url = 'https://www.nyse.com/markets/hours-calendars'\n",
    "\n",
    "# Read the tables from the webpage\n",
    "tables = pd.read_html(url)\n",
    "\n",
    "current_year = pd.to_datetime('today').year\n",
    "\n",
    "this_year = tables[0][   str(current_year)  ]\n",
    "this_year = this_year.str.replace(  r'\\*|\\s+\\(.+\\)$', '', regex=True   )\n",
    "# Remove the day of the week\n",
    "this_year = this_year.str.replace(r'^\\w+,\\s+', '', regex=True)\n",
    "\n",
    "# Assuming this_year is your Series\n",
    "this_year = pd.to_datetime(this_year + ', ' + str(current_year), format='%B %d, %Y') \n",
    "\n",
    "#Offset time by market close time UTC +0\n",
    "this_year = this_year + timedelta(hours=18)\n",
    "\n",
    "this_year"
   ]
  }
 ],
 "metadata": {
  "kernelspec": {
   "display_name": "algo",
   "language": "python",
   "name": "python3"
  },
  "language_info": {
   "codemirror_mode": {
    "name": "ipython",
    "version": 3
   },
   "file_extension": ".py",
   "mimetype": "text/x-python",
   "name": "python",
   "nbconvert_exporter": "python",
   "pygments_lexer": "ipython3",
   "version": "3.10.10"
  }
 },
 "nbformat": 4,
 "nbformat_minor": 2
}
